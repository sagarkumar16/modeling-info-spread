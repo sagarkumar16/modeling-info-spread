{
 "cells": [
  {
   "cell_type": "code",
   "execution_count": 1,
   "id": "204727c8",
   "metadata": {},
   "outputs": [
    {
     "name": "stdout",
     "output_type": "stream",
     "text": [
      "Obtaining file:///home/sagar/modeling-info-spread\n",
      "  Preparing metadata (setup.py) ... \u001b[?25ldone\n",
      "\u001b[?25hInstalling collected packages: src\n",
      "  Attempting uninstall: src\n",
      "    Found existing installation: src 0.2.5\n",
      "    Uninstalling src-0.2.5:\n",
      "      Successfully uninstalled src-0.2.5\n",
      "  Running setup.py develop for src\n",
      "Successfully installed src-0.2.6\n"
     ]
    }
   ],
   "source": [
    "!pip install -e /home/sagar/modeling-info-spread"
   ]
  },
  {
   "cell_type": "code",
   "execution_count": 9,
   "id": "03ab7b70",
   "metadata": {},
   "outputs": [],
   "source": [
    "import os\n",
    "import matplotlib.pyplot as plt\n",
    "from src.models.NSI import NSI\n",
    "from src.models.channel import *"
   ]
  },
  {
   "cell_type": "markdown",
   "id": "b299e5a0",
   "metadata": {},
   "source": [
    "# Constants"
   ]
  },
  {
   "cell_type": "code",
   "execution_count": 3,
   "id": "286420c5",
   "metadata": {},
   "outputs": [],
   "source": [
    "N = 10000\n",
    "T = 100\n",
    "\n",
    "beta = 0.1\n",
    "k = 4\n",
    "\n",
    "err = 0.1"
   ]
  },
  {
   "cell_type": "markdown",
   "id": "055d1ab9",
   "metadata": {},
   "source": [
    "# Objects"
   ]
  },
  {
   "cell_type": "code",
   "execution_count": 4,
   "id": "deaf91e8",
   "metadata": {},
   "outputs": [],
   "source": [
    "channels = {\n",
    "    \n",
    "    'binsym_1b_1f': single_flip_channel(1, err),\n",
    "    'binsym_2b_1f': single_flip_channel(2, err),\n",
    "    'binsym_3b_1f': single_flip_channel(3, err),\n",
    "    \n",
    "    'binsym_1b_nf': n_flip_channel(1, err),\n",
    "    'binsym_2b_nf': n_flip_channel(2, err),\n",
    "    'binsym_3b_nf': n_flip_channel(3, err)\n",
    "    \n",
    "}"
   ]
  },
  {
   "cell_type": "code",
   "execution_count": 5,
   "id": "4587a6e8",
   "metadata": {},
   "outputs": [],
   "source": [
    "models = {\n",
    "    \n",
    "    'binsym_1b_1f': NSI(N=N, T=T, P=channels['binsym_1b_1f']),\n",
    "    'binsym_2b_1f': NSI(N=N, T=T, P=channels['binsym_2b_1f']),\n",
    "    'binsym_3b_1f': NSI(N=N, T=T, P=channels['binsym_3b_1f']),\n",
    "    \n",
    "    'binsym_1b_nf': NSI(N=N, T=T, P=channels['binsym_1b_nf']),\n",
    "    'binsym_2b_nf': NSI(N=N, T=T, P=channels['binsym_2b_nf']),\n",
    "    'binsym_3b_nf': NSI(N=N, T=T, P=channels['binsym_3b_nf'])\n",
    "    \n",
    "}"
   ]
  },
  {
   "cell_type": "code",
   "execution_count": 6,
   "id": "d9bb6b36",
   "metadata": {},
   "outputs": [],
   "source": [
    "homogeneous_outputs = {\n",
    "    \n",
    "    'binsym_1b_1f': models['binsym_1b_1f'].homogeneous_analytic(beta, k),\n",
    "    'binsym_2b_1f': models['binsym_2b_1f'].homogeneous_analytic(beta, k),\n",
    "    'binsym_3b_1f': models['binsym_3b_1f'].homogeneous_analytic(beta, k),\n",
    "    \n",
    "    'binsym_1b_nf': models['binsym_1b_nf'].homogeneous_analytic(beta, k),\n",
    "    'binsym_2b_nf': models['binsym_2b_nf'].homogeneous_analytic(beta, k),\n",
    "    'binsym_3b_nf': models['binsym_3b_nf'].homogeneous_analytic(beta, k)\n",
    "    \n",
    "}"
   ]
  },
  {
   "cell_type": "code",
   "execution_count": 10,
   "id": "eb9bbd4c",
   "metadata": {},
   "outputs": [
    {
     "data": {
      "text/plain": [
       "[<matplotlib.lines.Line2D at 0x7f2dda96ce90>,\n",
       " <matplotlib.lines.Line2D at 0x7f2dda7c6b10>,\n",
       " <matplotlib.lines.Line2D at 0x7f2dda7c6f90>,\n",
       " <matplotlib.lines.Line2D at 0x7f2dda7c7310>]"
      ]
     },
     "execution_count": 10,
     "metadata": {},
     "output_type": "execute_result"
    },
    {
     "data": {
      "image/png": "[encoded data removed]",
      "text/plain": [
       "<Figure size 640x480 with 1 Axes>"
      ]
     },
     "metadata": {},
     "output_type": "display_data"
    }
   ],
   "source": [
    "plt.plot(range(T), homogeneous_outputs['binsym_2b_1f'].I)"
   ]
  },
  {
   "cell_type": "code",
   "execution_count": null,
   "id": "92299d6d",
   "metadata": {},
   "outputs": [],
   "source": []
  }
 ],
 "metadata": {
  "kernelspec": {
   "display_name": "Python 3 (ipykernel)",
   "language": "python",
   "name": "python3"
  },
  "language_info": {
   "codemirror_mode": {
    "name": "ipython",
    "version": 3
   },
   "file_extension": ".py",
   "mimetype": "text/x-python",
   "name": "python",
   "nbconvert_exporter": "python",
   "pygments_lexer": "ipython3",
   "version": "3.11.4"
  }
 },
 "nbformat": 4,
 "nbformat_minor": 5
}
