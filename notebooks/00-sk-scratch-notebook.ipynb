{
 "cells": [
  {
   "cell_type": "code",
   "execution_count": 4,
   "id": "a68573df",
   "metadata": {},
   "outputs": [],
   "source": [
    "import numpy as np\n",
    "import torch"
   ]
  },
  {
   "cell_type": "code",
   "execution_count": 14,
   "id": "727d28e9",
   "metadata": {},
   "outputs": [],
   "source": [
    "test = np.array([2,4,2,4,1,124,1,1,1])"
   ]
  },
  {
   "cell_type": "code",
   "execution_count": 15,
   "id": "31b40568",
   "metadata": {},
   "outputs": [
    {
     "data": {
      "text/plain": [
       "array([0, 4, 2, 0, 2, 0, 0, 0, 0, 0, 0, 0, 0, 0, 0, 0, 0, 0, 0, 0, 0, 0,\n",
       "       0, 0, 0, 0, 0, 0, 0, 0, 0, 0, 0, 0, 0, 0, 0, 0, 0, 0, 0, 0, 0, 0,\n",
       "       0, 0, 0, 0, 0, 0, 0, 0, 0, 0, 0, 0, 0, 0, 0, 0, 0, 0, 0, 0, 0, 0,\n",
       "       0, 0, 0, 0, 0, 0, 0, 0, 0, 0, 0, 0, 0, 0, 0, 0, 0, 0, 0, 0, 0, 0,\n",
       "       0, 0, 0, 0, 0, 0, 0, 0, 0, 0, 0, 0, 0, 0, 0, 0, 0, 0, 0, 0, 0, 0,\n",
       "       0, 0, 0, 0, 0, 0, 0, 0, 0, 0, 0, 0, 0, 0, 1])"
      ]
     },
     "execution_count": 15,
     "metadata": {},
     "output_type": "execute_result"
    }
   ],
   "source": [
    "np.bincount(test)"
   ]
  },
  {
   "cell_type": "code",
   "execution_count": 16,
   "id": "587c0d2f",
   "metadata": {},
   "outputs": [
    {
     "data": {
      "text/plain": [
       "tensor([0, 4, 2, 0, 2, 0, 0, 0, 0, 0, 0, 0, 0, 0, 0, 0, 0, 0, 0, 0, 0, 0, 0, 0,\n",
       "        0, 0, 0, 0, 0, 0, 0, 0, 0, 0, 0, 0, 0, 0, 0, 0, 0, 0, 0, 0, 0, 0, 0, 0,\n",
       "        0, 0, 0, 0, 0, 0, 0, 0, 0, 0, 0, 0, 0, 0, 0, 0, 0, 0, 0, 0, 0, 0, 0, 0,\n",
       "        0, 0, 0, 0, 0, 0, 0, 0, 0, 0, 0, 0, 0, 0, 0, 0, 0, 0, 0, 0, 0, 0, 0, 0,\n",
       "        0, 0, 0, 0, 0, 0, 0, 0, 0, 0, 0, 0, 0, 0, 0, 0, 0, 0, 0, 0, 0, 0, 0, 0,\n",
       "        0, 0, 0, 0, 1])"
      ]
     },
     "execution_count": 16,
     "metadata": {},
     "output_type": "execute_result"
    }
   ],
   "source": [
    "torch.bincount(torch.tensor(test))"
   ]
  },
  {
   "cell_type": "code",
   "execution_count": 68,
   "id": "92013b25",
   "metadata": {},
   "outputs": [
    {
     "data": {
      "text/plain": [
       "array([1, 0, 0, 3, 0, 1])"
      ]
     },
     "execution_count": 68,
     "metadata": {},
     "output_type": "execute_result"
    }
   ],
   "source": [
    "test_dict = {0:2, 1:2, 3:4, 4:-1, 5:2}\n",
    "\n",
    "test_states = np.array(list(test_dict.values()))\n",
    "test_shift = test_states + np.ones(len(test_dict), dtype=np.uint8)\n",
    "#test_shift\n",
    "np.bincount(test_shift)"
   ]
  },
  {
   "cell_type": "code",
   "execution_count": 61,
   "id": "0a3a8bb9",
   "metadata": {},
   "outputs": [
    {
     "data": {
      "text/plain": [
       "array(dict_values([2, 2, 4, -1, 2]), dtype=object)"
      ]
     },
     "execution_count": 61,
     "metadata": {},
     "output_type": "execute_result"
    }
   ],
   "source": [
    "test_states"
   ]
  },
  {
   "cell_type": "code",
   "execution_count": 18,
   "id": "1ed8f085",
   "metadata": {},
   "outputs": [
    {
     "data": {
      "text/plain": [
       "dict_values([2, 2, 4, 1, 2])"
      ]
     },
     "execution_count": 18,
     "metadata": {},
     "output_type": "execute_result"
    }
   ],
   "source": [
    "test_dict.values()"
   ]
  },
  {
   "cell_type": "code",
   "execution_count": 19,
   "id": "2f8346b3",
   "metadata": {},
   "outputs": [],
   "source": [
    "shuf_test = np.random.shuffle(test)"
   ]
  },
  {
   "cell_type": "code",
   "execution_count": 20,
   "id": "522f91b2",
   "metadata": {},
   "outputs": [
    {
     "data": {
      "text/plain": [
       "array([  2,   4,   1,   4, 124,   1,   1,   2,   1])"
      ]
     },
     "execution_count": 20,
     "metadata": {},
     "output_type": "execute_result"
    }
   ],
   "source": [
    "test"
   ]
  },
  {
   "cell_type": "code",
   "execution_count": 24,
   "id": "d3f073d2",
   "metadata": {},
   "outputs": [],
   "source": [
    "test_nei = np.random.randint(len(test), size=(len(test), 4))"
   ]
  },
  {
   "cell_type": "code",
   "execution_count": 44,
   "id": "3105f8fb",
   "metadata": {},
   "outputs": [
    {
     "data": {
      "text/plain": [
       "array([[0, 6, 7, 5],\n",
       "       [5, 0, 8, 2],\n",
       "       [0, 1, 5, 8],\n",
       "       [0, 8, 0, 7],\n",
       "       [8, 8, 4, 7],\n",
       "       [5, 1, 6, 6],\n",
       "       [4, 5, 7, 2],\n",
       "       [5, 8, 5, 0],\n",
       "       [1, 6, 1, 8]])"
      ]
     },
     "execution_count": 44,
     "metadata": {},
     "output_type": "execute_result"
    }
   ],
   "source": [
    "test_nei "
   ]
  },
  {
   "cell_type": "code",
   "execution_count": 35,
   "id": "3a49642a",
   "metadata": {},
   "outputs": [],
   "source": [
    "test_r = np.random.rand(len(test), 4)"
   ]
  },
  {
   "cell_type": "code",
   "execution_count": 37,
   "id": "c0a37b75",
   "metadata": {},
   "outputs": [
    {
     "name": "stdout",
     "output_type": "stream",
     "text": [
      "n:2, ni:[0 6 7 5], r:[0.85791013 0.4162825  0.5290101  0.30785212]\n",
      "n:4, ni:[5 0 8 2], r:[0.78140761 0.44844075 0.1645715  0.92306815]\n",
      "n:1, ni:[0 1 5 8], r:[0.90902217 0.37766672 0.34315819 0.66524254]\n",
      "n:4, ni:[0 8 0 7], r:[0.65548506 0.48652216 0.65750446 0.44463445]\n",
      "n:124, ni:[8 8 4 7], r:[0.92990162 0.11043028 0.20338859 0.93607972]\n",
      "n:1, ni:[5 1 6 6], r:[0.74063055 0.40802467 0.33166891 0.21506032]\n",
      "n:1, ni:[4 5 7 2], r:[0.02032626 0.68182334 0.51093818 0.2314154 ]\n",
      "n:2, ni:[5 8 5 0], r:[0.66348392 0.27056879 0.19343116 0.86810014]\n",
      "n:1, ni:[1 6 1 8], r:[0.75526142 0.14606446 0.12763841 0.95237588]\n"
     ]
    }
   ],
   "source": [
    "for test_n, test_ni, test_rvec in zip(test, test_nei, test_r):\n",
    "    print(f\"n:{test_n}, ni:{test_ni}, r:{test_rvec}\")"
   ]
  },
  {
   "cell_type": "code",
   "execution_count": 40,
   "id": "e4f94982",
   "metadata": {},
   "outputs": [
    {
     "data": {
      "text/plain": [
       "array([[ True,  True,  True, False],\n",
       "       [ True,  True, False,  True],\n",
       "       [ True, False, False,  True],\n",
       "       [ True,  True,  True,  True],\n",
       "       [ True, False, False,  True],\n",
       "       [ True,  True, False, False],\n",
       "       [False,  True,  True, False],\n",
       "       [ True, False, False,  True],\n",
       "       [ True, False, False,  True]])"
      ]
     },
     "execution_count": 40,
     "metadata": {},
     "output_type": "execute_result"
    }
   ],
   "source": [
    "test_r > 0.4"
   ]
  },
  {
   "cell_type": "code",
   "execution_count": 41,
   "id": "cc84b155",
   "metadata": {},
   "outputs": [
    {
     "data": {
      "text/plain": [
       "array([[0, 6, 7, 0],\n",
       "       [5, 0, 0, 2],\n",
       "       [0, 0, 0, 8],\n",
       "       [0, 8, 0, 7],\n",
       "       [8, 0, 0, 7],\n",
       "       [5, 1, 0, 0],\n",
       "       [0, 5, 7, 0],\n",
       "       [5, 0, 0, 0],\n",
       "       [1, 0, 0, 8]])"
      ]
     },
     "execution_count": 41,
     "metadata": {},
     "output_type": "execute_result"
    }
   ],
   "source": [
    "(test_r > 0.4) * test_nei"
   ]
  },
  {
   "cell_type": "code",
   "execution_count": 45,
   "id": "8406a4e5",
   "metadata": {},
   "outputs": [
    {
     "data": {
      "text/plain": [
       "-1"
      ]
     },
     "execution_count": 45,
     "metadata": {},
     "output_type": "execute_result"
    }
   ],
   "source": [
    "np.sign(-1)"
   ]
  },
  {
   "cell_type": "code",
   "execution_count": 50,
   "id": "4a745b93",
   "metadata": {},
   "outputs": [
    {
     "data": {
      "text/plain": [
       "array([1, 1, 1, 1], dtype=uint8)"
      ]
     },
     "execution_count": 50,
     "metadata": {},
     "output_type": "execute_result"
    }
   ],
   "source": [
    "np.ones(4, dtype=np.uint8)"
   ]
  },
  {
   "cell_type": "code",
   "execution_count": 51,
   "id": "6fdabd87",
   "metadata": {},
   "outputs": [
    {
     "data": {
      "text/plain": [
       "array([[-1,  5,  6,  4],\n",
       "       [ 4, -1,  7,  1],\n",
       "       [-1,  0,  4,  7],\n",
       "       [-1,  7, -1,  6],\n",
       "       [ 7,  7,  3,  6],\n",
       "       [ 4,  0,  5,  5],\n",
       "       [ 3,  4,  6,  1],\n",
       "       [ 4,  7,  4, -1],\n",
       "       [ 0,  5,  0,  7]])"
      ]
     },
     "execution_count": 51,
     "metadata": {},
     "output_type": "execute_result"
    }
   ],
   "source": [
    "test_nei - np.ones((len(test), 4), dtype=np.uint8)"
   ]
  },
  {
   "cell_type": "code",
   "execution_count": 53,
   "id": "94f4efd6",
   "metadata": {},
   "outputs": [
    {
     "data": {
      "text/plain": [
       "array([[1, 1, 1, 1],\n",
       "       [1, 1, 1, 1],\n",
       "       [1, 1, 1, 1],\n",
       "       [1, 1, 1, 1],\n",
       "       [1, 1, 1, 1],\n",
       "       [1, 1, 1, 1],\n",
       "       [1, 1, 1, 1],\n",
       "       [1, 1, 1, 1],\n",
       "       [1, 1, 1, 1]], dtype=uint8)"
      ]
     },
     "execution_count": 53,
     "metadata": {},
     "output_type": "execute_result"
    }
   ],
   "source": [
    "np.ones(test_nei.shape, dtype=np.uint8)"
   ]
  },
  {
   "cell_type": "code",
   "execution_count": 70,
   "id": "aa5de01b",
   "metadata": {},
   "outputs": [
    {
     "data": {
      "text/plain": [
       "True"
      ]
     },
     "execution_count": 70,
     "metadata": {},
     "output_type": "execute_result"
    }
   ],
   "source": [
    "torch.cuda.is_available()"
   ]
  },
  {
   "cell_type": "code",
   "execution_count": 71,
   "id": "eb65c0aa",
   "metadata": {},
   "outputs": [
    {
     "data": {
      "text/plain": [
       "array([[0, 6, 7, 5],\n",
       "       [5, 0, 8, 2],\n",
       "       [0, 1, 5, 8],\n",
       "       [0, 8, 0, 7],\n",
       "       [8, 8, 4, 7],\n",
       "       [5, 1, 6, 6],\n",
       "       [4, 5, 7, 2],\n",
       "       [5, 8, 5, 0],\n",
       "       [1, 6, 1, 8]])"
      ]
     },
     "execution_count": 71,
     "metadata": {},
     "output_type": "execute_result"
    }
   ],
   "source": [
    "test_nei"
   ]
  },
  {
   "cell_type": "code",
   "execution_count": 72,
   "id": "a5515514",
   "metadata": {},
   "outputs": [
    {
     "data": {
      "text/plain": [
       "tensor([[0, 6, 7, 5],\n",
       "        [5, 0, 8, 2],\n",
       "        [0, 1, 5, 8],\n",
       "        [0, 8, 0, 7],\n",
       "        [8, 8, 4, 7],\n",
       "        [5, 1, 6, 6],\n",
       "        [4, 5, 7, 2],\n",
       "        [5, 8, 5, 0],\n",
       "        [1, 6, 1, 8]])"
      ]
     },
     "execution_count": 72,
     "metadata": {},
     "output_type": "execute_result"
    }
   ],
   "source": [
    "torch.tensor(test_nei)"
   ]
  },
  {
   "cell_type": "code",
   "execution_count": 75,
   "id": "3fd2dabf",
   "metadata": {},
   "outputs": [],
   "source": [
    "A = np.ones((3,3))"
   ]
  },
  {
   "cell_type": "code",
   "execution_count": 76,
   "id": "c0c16484",
   "metadata": {},
   "outputs": [
    {
     "data": {
      "text/plain": [
       "array([[1., 1., 1.],\n",
       "       [1., 1., 1.],\n",
       "       [1., 1., 1.]])"
      ]
     },
     "execution_count": 76,
     "metadata": {},
     "output_type": "execute_result"
    }
   ],
   "source": [
    "A"
   ]
  },
  {
   "cell_type": "code",
   "execution_count": 77,
   "id": "60c6cee5",
   "metadata": {},
   "outputs": [],
   "source": [
    "np.fill_diagonal(A, 34)"
   ]
  },
  {
   "cell_type": "code",
   "execution_count": 78,
   "id": "2b8aa787",
   "metadata": {},
   "outputs": [
    {
     "data": {
      "text/plain": [
       "array([[34.,  1.,  1.],\n",
       "       [ 1., 34.,  1.],\n",
       "       [ 1.,  1., 34.]])"
      ]
     },
     "execution_count": 78,
     "metadata": {},
     "output_type": "execute_result"
    }
   ],
   "source": [
    "A"
   ]
  },
  {
   "cell_type": "code",
   "execution_count": 103,
   "id": "31c4efff",
   "metadata": {},
   "outputs": [],
   "source": [
    "e = 0.1\n",
    "\n",
    "adj = np.array([[0, 1, 1, 0],\n",
    "                [1, 0, 1, 0],\n",
    "                [1, 1, 0, 1],\n",
    "                [0, 0, 1, 0]])\n",
    "\n",
    "degrees = np.sum(adj, axis=1)\n",
    "\n",
    "errors = e / degrees\n",
    "\n",
    "Q = errors.reshape(-1,1) * adj\n",
    "\n",
    "np.fill_diagonal(Q, 1-e)"
   ]
  },
  {
   "cell_type": "code",
   "execution_count": 104,
   "id": "b80095ff",
   "metadata": {},
   "outputs": [
    {
     "data": {
      "text/plain": [
       "array([[0.9       , 0.05      , 0.05      , 0.        ],\n",
       "       [0.05      , 0.9       , 0.05      , 0.        ],\n",
       "       [0.03333333, 0.03333333, 0.9       , 0.03333333],\n",
       "       [0.        , 0.        , 0.1       , 0.9       ]])"
      ]
     },
     "execution_count": 104,
     "metadata": {},
     "output_type": "execute_result"
    }
   ],
   "source": [
    "Q"
   ]
  },
  {
   "cell_type": "code",
   "execution_count": 81,
   "id": "fd7a7ca3",
   "metadata": {},
   "outputs": [
    {
     "data": {
      "text/plain": [
       "array([2, 2, 3, 1])"
      ]
     },
     "execution_count": 81,
     "metadata": {},
     "output_type": "execute_result"
    }
   ],
   "source": [
    "degrees"
   ]
  },
  {
   "cell_type": "code",
   "execution_count": 83,
   "id": "032a7360",
   "metadata": {},
   "outputs": [
    {
     "data": {
      "text/plain": [
       "array([0.05      , 0.05      , 0.03333333, 0.1       ])"
      ]
     },
     "execution_count": 83,
     "metadata": {},
     "output_type": "execute_result"
    }
   ],
   "source": [
    "e / degrees"
   ]
  },
  {
   "cell_type": "code",
   "execution_count": 106,
   "id": "8bafd0cc",
   "metadata": {},
   "outputs": [],
   "source": [
    "import networkx as nx\n",
    "\n",
    "G = nx.barabasi_albert_graph(10, 2)\n",
    "M = nx.adjacency_matrix(G).todense()"
   ]
  },
  {
   "cell_type": "code",
   "execution_count": 107,
   "id": "36cfe569",
   "metadata": {},
   "outputs": [
    {
     "data": {
      "text/plain": [
       "array([[0, 1, 1, 1, 0, 1, 0, 0, 0, 0],\n",
       "       [1, 0, 0, 0, 1, 1, 0, 1, 0, 0],\n",
       "       [1, 0, 0, 1, 0, 0, 1, 0, 1, 1],\n",
       "       [1, 0, 1, 0, 1, 0, 0, 1, 1, 0],\n",
       "       [0, 1, 0, 1, 0, 0, 1, 0, 0, 0],\n",
       "       [1, 1, 0, 0, 0, 0, 0, 0, 0, 0],\n",
       "       [0, 0, 1, 0, 1, 0, 0, 0, 0, 0],\n",
       "       [0, 1, 0, 1, 0, 0, 0, 0, 0, 0],\n",
       "       [0, 0, 1, 1, 0, 0, 0, 0, 0, 1],\n",
       "       [0, 0, 1, 0, 0, 0, 0, 0, 1, 0]])"
      ]
     },
     "execution_count": 107,
     "metadata": {},
     "output_type": "execute_result"
    }
   ],
   "source": [
    "M"
   ]
  },
  {
   "cell_type": "code",
   "execution_count": 110,
   "id": "79215c8f",
   "metadata": {},
   "outputs": [
    {
     "data": {
      "text/plain": [
       "[1, 2, 3, 4, 5, 6, 7, 8, 9]"
      ]
     },
     "execution_count": 110,
     "metadata": {},
     "output_type": "execute_result"
    }
   ],
   "source": [
    "list(range(10))[1:]"
   ]
  },
  {
   "cell_type": "code",
   "execution_count": null,
   "id": "b08f72ae",
   "metadata": {},
   "outputs": [],
   "source": []
  }
 ],
 "metadata": {
  "kernelspec": {
   "display_name": "Python 3 (ipykernel)",
   "language": "python",
   "name": "python3"
  },
  "language_info": {
   "codemirror_mode": {
    "name": "ipython",
    "version": 3
   },
   "file_extension": ".py",
   "mimetype": "text/x-python",
   "name": "python",
   "nbconvert_exporter": "python",
   "pygments_lexer": "ipython3",
   "version": "3.11.4"
  }
 },
 "nbformat": 4,
 "nbformat_minor": 5
}
