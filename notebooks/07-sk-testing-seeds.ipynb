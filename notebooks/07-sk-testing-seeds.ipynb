{
 "cells": [
  {
   "cell_type": "code",
   "execution_count": 1,
   "id": "d19caaf7",
   "metadata": {},
   "outputs": [],
   "source": [
    "import numpy as np\n",
    "import matplotlib.pyplot as plt\n",
    "from collections import defaultdict, Counter\n",
    "from tqdm.notebook import tqdm\n",
    "from math import log\n",
    "import matplotlib.patches as mpatches\n",
    "import matplotlib.colors as mcolors"
   ]
  },
  {
   "cell_type": "code",
   "execution_count": 2,
   "id": "ee3ed593",
   "metadata": {},
   "outputs": [],
   "source": [
    "N = 10000\n",
    "k = 4\n",
    "beta = 0.01\n",
    "T = 1000"
   ]
  },
  {
   "cell_type": "code",
   "execution_count": 13,
   "id": "acff1ac4",
   "metadata": {},
   "outputs": [],
   "source": [
    "def dim(infected, beta, k, P):\n",
    "    return beta * k * (1-sum(infected)) * (P.T@infected)"
   ]
  },
  {
   "cell_type": "code",
   "execution_count": 12,
   "id": "0048e7e4",
   "metadata": {},
   "outputs": [],
   "source": [
    "err = 0.04\n",
    "Q = np.array([[1 - err, err],[err, 1-err]])"
   ]
  },
  {
   "cell_type": "code",
   "execution_count": 20,
   "id": "b5b046be",
   "metadata": {},
   "outputs": [],
   "source": [
    "I = [np.array([2/N, 0])]\n",
    "\n",
    "\n",
    "for t in range(1,T):\n",
    "    I.append(I[t-1] + dim(infected=I[t-1], beta=beta, k=k, P=Q))"
   ]
  },
  {
   "cell_type": "code",
   "execution_count": 21,
   "id": "0364e1e5",
   "metadata": {},
   "outputs": [],
   "source": [
    "I2 = [np.array([1/N, 1/N])]\n",
    "\n",
    "\n",
    "for t in range(1,T):\n",
    "    I2.append(I2[t-1] + dim(infected=I2[t-1], beta=beta, k=k, P=Q))"
   ]
  },
  {
   "cell_type": "code",
   "execution_count": 26,
   "id": "29aa0c20",
   "metadata": {},
   "outputs": [],
   "source": [
    "I3 = [np.array([0, 2/N])]\n",
    "\n",
    "\n",
    "for t in range(1,T):\n",
    "    I3.append(I3[t-1] + dim(infected=I3[t-1], beta=beta, k=k, P=Q))"
   ]
  },
  {
   "cell_type": "code",
   "execution_count": 27,
   "id": "ffe63eed",
   "metadata": {},
   "outputs": [
    {
     "data": {
      "text/plain": [
       "[<matplotlib.lines.Line2D at 0x7fed146fde10>]"
      ]
     },
     "execution_count": 27,
     "metadata": {},
     "output_type": "execute_result"
    },
    {
     "data": {
      "image/png": "[encoded data removed]",
      "text/plain": [
       "<Figure size 640x480 with 1 Axes>"
      ]
     },
     "metadata": {},
     "output_type": "display_data"
    }
   ],
   "source": [
    "plt.plot([i[0] for i in I],[i[1] for i in I], 'blue')\n",
    "plt.plot([i[0] for i in I2],[i[1] for i in I2], 'red')\n",
    "plt.plot([i[0] for i in I3],[i[1] for i in I3], 'orange')\n",
    "\n",
    "\n",
    "plt.plot([x for x in np.linspace(0, 1, 1000)], [1-x for x in np.linspace(0,1,1000)], linestyle='dotted', \n",
    "        alpha=0.6)"
   ]
  },
  {
   "cell_type": "markdown",
   "id": "1f34338d",
   "metadata": {},
   "source": [
    "# Stochastic Simulation"
   ]
  },
  {
   "cell_type": "code",
   "execution_count": 1,
   "id": "cbd35d79",
   "metadata": {},
   "outputs": [
    {
     "name": "stdout",
     "output_type": "stream",
     "text": [
      "Obtaining file:///home/sagar/modeling-info-spread\n",
      "  Preparing metadata (setup.py) ... \u001b[?25ldone\n",
      "\u001b[?25hInstalling collected packages: src\n",
      "  Attempting uninstall: src\n",
      "    Found existing installation: src 0.2.8\n",
      "    Uninstalling src-0.2.8:\n",
      "      Successfully uninstalled src-0.2.8\n",
      "  Running setup.py develop for src\n",
      "Successfully installed src-0.2.8\n"
     ]
    }
   ],
   "source": [
    "!pip install -e /home/sagar/modeling-info-spread"
   ]
  },
  {
   "cell_type": "code",
   "execution_count": 2,
   "id": "b93318b1",
   "metadata": {},
   "outputs": [],
   "source": [
    "import os\n",
    "import matplotlib.pyplot as plt\n",
    "from matplotlib import colormaps\n",
    "from src.models.NSI import NSI\n",
    "from src.models.channel import *\n",
    "from tqdm.notebook import tqdm\n",
    "import pickle\n",
    "import matplotlib.patches as mpatches\n",
    "import matplotlib.colors as mcolors\n",
    "from scipy import stats\n",
    "from collections import defaultdict, Counter\n",
    "import numpy as np\n",
    "from sklearn.metrics import mean_squared_error\n",
    "from itertools import chain"
   ]
  },
  {
   "cell_type": "code",
   "execution_count": 3,
   "id": "af9c6296",
   "metadata": {},
   "outputs": [],
   "source": [
    "errors = [0.1, 0.4, 0.5, 0.6, 0.8, 1]"
   ]
  },
  {
   "cell_type": "code",
   "execution_count": 5,
   "id": "92514e57",
   "metadata": {},
   "outputs": [],
   "source": [
    "N = 10000\n",
    "k = 4\n",
    "beta = 0.01\n",
    "T = 1000"
   ]
  },
  {
   "cell_type": "code",
   "execution_count": 6,
   "id": "dca9ae9e",
   "metadata": {},
   "outputs": [
    {
     "data": {
      "application/vnd.jupyter.widget-view+json": {
       "model_id": "5b4da8f042be4baca9106969260dc8fb",
       "version_major": 2,
       "version_minor": 0
      },
      "text/plain": [
       "  0%|          | 0/999 [00:00<?, ?it/s]"
      ]
     },
     "metadata": {},
     "output_type": "display_data"
    },
    {
     "ename": "KeyError",
     "evalue": "3147",
     "output_type": "error",
     "traceback": [
      "\u001b[0;31m---------------------------------------------------------------------------\u001b[0m",
      "\u001b[0;31mKeyError\u001b[0m                                  Traceback (most recent call last)",
      "Cell \u001b[0;32mIn[6], line 31\u001b[0m\n\u001b[1;32m      9\u001b[0m binary_models \u001b[38;5;241m=\u001b[39m {\n\u001b[1;32m     10\u001b[0m \n\u001b[1;32m     11\u001b[0m     \n\u001b[0;32m   (...)\u001b[0m\n\u001b[1;32m     18\u001b[0m \n\u001b[1;32m     19\u001b[0m }\n\u001b[1;32m     21\u001b[0m binary_homo_outputs \u001b[38;5;241m=\u001b[39m {\n\u001b[1;32m     22\u001b[0m \n\u001b[1;32m     23\u001b[0m     \u001b[38;5;124m'\u001b[39m\u001b[38;5;124msym\u001b[39m\u001b[38;5;124m'\u001b[39m: [m\u001b[38;5;241m.\u001b[39mhomogeneous_analytic(beta, k) \u001b[38;5;28;01mfor\u001b[39;00m m \u001b[38;5;129;01min\u001b[39;00m binary_models[\u001b[38;5;124m'\u001b[39m\u001b[38;5;124msym\u001b[39m\u001b[38;5;124m'\u001b[39m]],\n\u001b[0;32m   (...)\u001b[0m\n\u001b[1;32m     26\u001b[0m \n\u001b[1;32m     27\u001b[0m }\n\u001b[1;32m     29\u001b[0m bin_homo_simulations \u001b[38;5;241m=\u001b[39m {\n\u001b[1;32m     30\u001b[0m     \n\u001b[0;32m---> 31\u001b[0m     \u001b[38;5;124m'\u001b[39m\u001b[38;5;124msym\u001b[39m\u001b[38;5;124m'\u001b[39m: [[m\u001b[38;5;241m.\u001b[39mhomogeneous_simulations(beta, k, notebook\u001b[38;5;241m=\u001b[39m\u001b[38;5;28;01mTrue\u001b[39;00m) \u001b[38;5;28;01mfor\u001b[39;00m m \u001b[38;5;129;01min\u001b[39;00m binary_models[\u001b[38;5;124m'\u001b[39m\u001b[38;5;124msym\u001b[39m\u001b[38;5;124m'\u001b[39m]] \u001b[38;5;28;01mfor\u001b[39;00m _ \u001b[38;5;129;01min\u001b[39;00m \u001b[38;5;28mrange\u001b[39m(\u001b[38;5;241m4\u001b[39m)],\n\u001b[1;32m     32\u001b[0m     \u001b[38;5;124m'\u001b[39m\u001b[38;5;124masym\u001b[39m\u001b[38;5;124m'\u001b[39m: [[m\u001b[38;5;241m.\u001b[39mhomogeneous_simulations(beta, k, notebook\u001b[38;5;241m=\u001b[39m\u001b[38;5;28;01mTrue\u001b[39;00m) \u001b[38;5;28;01mfor\u001b[39;00m m \u001b[38;5;129;01min\u001b[39;00m binary_models[\u001b[38;5;124m'\u001b[39m\u001b[38;5;124masym\u001b[39m\u001b[38;5;124m'\u001b[39m]] \u001b[38;5;28;01mfor\u001b[39;00m _ \u001b[38;5;129;01min\u001b[39;00m \u001b[38;5;28mrange\u001b[39m(\u001b[38;5;241m4\u001b[39m)]\n\u001b[1;32m     33\u001b[0m     \n\u001b[1;32m     34\u001b[0m }\n",
      "Cell \u001b[0;32mIn[6], line 31\u001b[0m, in \u001b[0;36m<listcomp>\u001b[0;34m(.0)\u001b[0m\n\u001b[1;32m      9\u001b[0m binary_models \u001b[38;5;241m=\u001b[39m {\n\u001b[1;32m     10\u001b[0m \n\u001b[1;32m     11\u001b[0m     \n\u001b[0;32m   (...)\u001b[0m\n\u001b[1;32m     18\u001b[0m \n\u001b[1;32m     19\u001b[0m }\n\u001b[1;32m     21\u001b[0m binary_homo_outputs \u001b[38;5;241m=\u001b[39m {\n\u001b[1;32m     22\u001b[0m \n\u001b[1;32m     23\u001b[0m     \u001b[38;5;124m'\u001b[39m\u001b[38;5;124msym\u001b[39m\u001b[38;5;124m'\u001b[39m: [m\u001b[38;5;241m.\u001b[39mhomogeneous_analytic(beta, k) \u001b[38;5;28;01mfor\u001b[39;00m m \u001b[38;5;129;01min\u001b[39;00m binary_models[\u001b[38;5;124m'\u001b[39m\u001b[38;5;124msym\u001b[39m\u001b[38;5;124m'\u001b[39m]],\n\u001b[0;32m   (...)\u001b[0m\n\u001b[1;32m     26\u001b[0m \n\u001b[1;32m     27\u001b[0m }\n\u001b[1;32m     29\u001b[0m bin_homo_simulations \u001b[38;5;241m=\u001b[39m {\n\u001b[1;32m     30\u001b[0m     \n\u001b[0;32m---> 31\u001b[0m     \u001b[38;5;124m'\u001b[39m\u001b[38;5;124msym\u001b[39m\u001b[38;5;124m'\u001b[39m: [[m\u001b[38;5;241m.\u001b[39mhomogeneous_simulations(beta, k, notebook\u001b[38;5;241m=\u001b[39m\u001b[38;5;28;01mTrue\u001b[39;00m) \u001b[38;5;28;01mfor\u001b[39;00m m \u001b[38;5;129;01min\u001b[39;00m binary_models[\u001b[38;5;124m'\u001b[39m\u001b[38;5;124msym\u001b[39m\u001b[38;5;124m'\u001b[39m]] \u001b[38;5;28;01mfor\u001b[39;00m _ \u001b[38;5;129;01min\u001b[39;00m \u001b[38;5;28mrange\u001b[39m(\u001b[38;5;241m4\u001b[39m)],\n\u001b[1;32m     32\u001b[0m     \u001b[38;5;124m'\u001b[39m\u001b[38;5;124masym\u001b[39m\u001b[38;5;124m'\u001b[39m: [[m\u001b[38;5;241m.\u001b[39mhomogeneous_simulations(beta, k, notebook\u001b[38;5;241m=\u001b[39m\u001b[38;5;28;01mTrue\u001b[39;00m) \u001b[38;5;28;01mfor\u001b[39;00m m \u001b[38;5;129;01min\u001b[39;00m binary_models[\u001b[38;5;124m'\u001b[39m\u001b[38;5;124masym\u001b[39m\u001b[38;5;124m'\u001b[39m]] \u001b[38;5;28;01mfor\u001b[39;00m _ \u001b[38;5;129;01min\u001b[39;00m \u001b[38;5;28mrange\u001b[39m(\u001b[38;5;241m4\u001b[39m)]\n\u001b[1;32m     33\u001b[0m     \n\u001b[1;32m     34\u001b[0m }\n",
      "Cell \u001b[0;32mIn[6], line 31\u001b[0m, in \u001b[0;36m<listcomp>\u001b[0;34m(.0)\u001b[0m\n\u001b[1;32m      9\u001b[0m binary_models \u001b[38;5;241m=\u001b[39m {\n\u001b[1;32m     10\u001b[0m \n\u001b[1;32m     11\u001b[0m     \n\u001b[0;32m   (...)\u001b[0m\n\u001b[1;32m     18\u001b[0m \n\u001b[1;32m     19\u001b[0m }\n\u001b[1;32m     21\u001b[0m binary_homo_outputs \u001b[38;5;241m=\u001b[39m {\n\u001b[1;32m     22\u001b[0m \n\u001b[1;32m     23\u001b[0m     \u001b[38;5;124m'\u001b[39m\u001b[38;5;124msym\u001b[39m\u001b[38;5;124m'\u001b[39m: [m\u001b[38;5;241m.\u001b[39mhomogeneous_analytic(beta, k) \u001b[38;5;28;01mfor\u001b[39;00m m \u001b[38;5;129;01min\u001b[39;00m binary_models[\u001b[38;5;124m'\u001b[39m\u001b[38;5;124msym\u001b[39m\u001b[38;5;124m'\u001b[39m]],\n\u001b[0;32m   (...)\u001b[0m\n\u001b[1;32m     26\u001b[0m \n\u001b[1;32m     27\u001b[0m }\n\u001b[1;32m     29\u001b[0m bin_homo_simulations \u001b[38;5;241m=\u001b[39m {\n\u001b[1;32m     30\u001b[0m     \n\u001b[0;32m---> 31\u001b[0m     \u001b[38;5;124m'\u001b[39m\u001b[38;5;124msym\u001b[39m\u001b[38;5;124m'\u001b[39m: [[m\u001b[38;5;241m.\u001b[39mhomogeneous_simulations(beta, k, notebook\u001b[38;5;241m=\u001b[39m\u001b[38;5;28;01mTrue\u001b[39;00m) \u001b[38;5;28;01mfor\u001b[39;00m m \u001b[38;5;129;01min\u001b[39;00m binary_models[\u001b[38;5;124m'\u001b[39m\u001b[38;5;124msym\u001b[39m\u001b[38;5;124m'\u001b[39m]] \u001b[38;5;28;01mfor\u001b[39;00m _ \u001b[38;5;129;01min\u001b[39;00m \u001b[38;5;28mrange\u001b[39m(\u001b[38;5;241m4\u001b[39m)],\n\u001b[1;32m     32\u001b[0m     \u001b[38;5;124m'\u001b[39m\u001b[38;5;124masym\u001b[39m\u001b[38;5;124m'\u001b[39m: [[m\u001b[38;5;241m.\u001b[39mhomogeneous_simulations(beta, k, notebook\u001b[38;5;241m=\u001b[39m\u001b[38;5;28;01mTrue\u001b[39;00m) \u001b[38;5;28;01mfor\u001b[39;00m m \u001b[38;5;129;01min\u001b[39;00m binary_models[\u001b[38;5;124m'\u001b[39m\u001b[38;5;124masym\u001b[39m\u001b[38;5;124m'\u001b[39m]] \u001b[38;5;28;01mfor\u001b[39;00m _ \u001b[38;5;129;01min\u001b[39;00m \u001b[38;5;28mrange\u001b[39m(\u001b[38;5;241m4\u001b[39m)]\n\u001b[1;32m     33\u001b[0m     \n\u001b[1;32m     34\u001b[0m }\n",
      "File \u001b[0;32m~/modeling-info-spread/src/models/NSI.py:223\u001b[0m, in \u001b[0;36mNSI.homogeneous_simulations\u001b[0;34m(self, beta, k, seedI, density, track_comm, pbar_on, notebook)\u001b[0m\n\u001b[1;32m    220\u001b[0m \u001b[38;5;28;01mfor\u001b[39;00m ni \u001b[38;5;129;01min\u001b[39;00m neighbors:\n\u001b[1;32m    222\u001b[0m     deg_count[n] \u001b[38;5;241m+\u001b[39m\u001b[38;5;241m=\u001b[39m \u001b[38;5;241m1\u001b[39m\n\u001b[0;32m--> 223\u001b[0m     deg_count[ni] \u001b[38;5;241m+\u001b[39m\u001b[38;5;241m=\u001b[39m \u001b[38;5;241m1\u001b[39m\n\u001b[1;32m    225\u001b[0m     \u001b[38;5;28;01mif\u001b[39;00m random\u001b[38;5;241m.\u001b[39mrandom() \u001b[38;5;241m<\u001b[39m beta:\n\u001b[1;32m    227\u001b[0m         ni_state \u001b[38;5;241m=\u001b[39m population_dictionary[ni]\n",
      "\u001b[0;31mKeyError\u001b[0m: 3147"
     ]
    }
   ],
   "source": [
    "binary_channels = {\n",
    "\n",
    "    'sym': [single_flip_channel(1, err) for err in errors],\n",
    "\n",
    "    'asym': [bin_asym_channel(err, ((err-0.5) % 1)) for err in errors]\n",
    "\n",
    "}\n",
    "\n",
    "binary_models = {\n",
    "\n",
    "    \n",
    "\n",
    "    'sym': [NSI(N=N, T=T, P=c) for c in binary_channels['sym']],\n",
    "\n",
    "    'asym': [NSI(N=N, T=T, P=c) for c in binary_channels['asym']]\n",
    "\n",
    "    \n",
    "\n",
    "}\n",
    "\n",
    "binary_homo_outputs = {\n",
    "\n",
    "    'sym': [m.homogeneous_analytic(beta, k) for m in binary_models['sym']],\n",
    "\n",
    "    'asym': [m.homogeneous_analytic(beta, k) for m in binary_models['asym']]\n",
    "\n",
    "}\n",
    "\n",
    "bin_homo_simulations = {\n",
    "    \n",
    "    'sym': [[m.homogeneous_simulations(beta, k, notebook=True) for m in binary_models['sym']] for _ in range(4)],\n",
    "    'asym': [[m.homogeneous_simulations(beta, k, notebook=True) for m in binary_models['asym']] for _ in range(4)]\n",
    "    \n",
    "}"
   ]
  },
  {
   "cell_type": "code",
   "execution_count": null,
   "id": "5ee64258",
   "metadata": {},
   "outputs": [],
   "source": []
  }
 ],
 "metadata": {
  "kernelspec": {
   "display_name": "Python 3 (ipykernel)",
   "language": "python",
   "name": "python3"
  },
  "language_info": {
   "codemirror_mode": {
    "name": "ipython",
    "version": 3
   },
   "file_extension": ".py",
   "mimetype": "text/x-python",
   "name": "python",
   "nbconvert_exporter": "python",
   "pygments_lexer": "ipython3",
   "version": "3.11.4"
  }
 },
 "nbformat": 4,
 "nbformat_minor": 5
}
