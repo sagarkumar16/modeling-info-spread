{
 "cells": [
  {
   "cell_type": "code",
   "execution_count": 4,
   "id": "28c7f997",
   "metadata": {},
   "outputs": [
    {
     "name": "stdout",
     "output_type": "stream",
     "text": [
      "Obtaining file:///home/sagar/modeling-info-spread\n",
      "  Preparing metadata (setup.py) ... \u001b[?25ldone\n",
      "\u001b[?25hInstalling collected packages: src\n",
      "  Attempting uninstall: src\n",
      "    Found existing installation: src 0.2.8\n",
      "    Uninstalling src-0.2.8:\n",
      "      Successfully uninstalled src-0.2.8\n",
      "  Running setup.py develop for src\n",
      "Successfully installed src-0.2.8\n"
     ]
    }
   ],
   "source": [
    "!pip install -e /home/sagar/modeling-info-spread"
   ]
  },
  {
   "cell_type": "code",
   "execution_count": 5,
   "id": "d35ad373",
   "metadata": {},
   "outputs": [],
   "source": [
    "import os\n",
    "import matplotlib.pyplot as plt\n",
    "from matplotlib import colormaps\n",
    "from src.models.NSI import NSI\n",
    "from src.models.channel import *\n",
    "from tqdm.notebook import tqdm\n",
    "import pickle\n",
    "import matplotlib.patches as mpatches\n",
    "import matplotlib.colors as mcolors\n",
    "from scipy import stats\n",
    "from collections import defaultdict\n",
    "import numpy as np"
   ]
  },
  {
   "cell_type": "markdown",
   "id": "4fc68236",
   "metadata": {},
   "source": [
    "# Constants"
   ]
  },
  {
   "cell_type": "code",
   "execution_count": 6,
   "id": "31fd98c4",
   "metadata": {},
   "outputs": [],
   "source": [
    "N = 10000\n",
    "T = 1000\n",
    "\n",
    "beta = 0.01\n",
    "k = 4"
   ]
  },
  {
   "cell_type": "markdown",
   "id": "73ca3424",
   "metadata": {},
   "source": [
    "# Defining Channels and Models"
   ]
  },
  {
   "cell_type": "code",
   "execution_count": null,
   "id": "e48ee693",
   "metadata": {},
   "outputs": [],
   "source": []
  },
  {
   "cell_type": "code",
   "execution_count": null,
   "id": "7f57a852",
   "metadata": {},
   "outputs": [],
   "source": []
  },
  {
   "cell_type": "markdown",
   "id": "761ece77",
   "metadata": {},
   "source": [
    "# Calculating Numerical Results"
   ]
  },
  {
   "cell_type": "code",
   "execution_count": null,
   "id": "85d3951c",
   "metadata": {},
   "outputs": [],
   "source": []
  },
  {
   "cell_type": "markdown",
   "id": "8b9cf24c",
   "metadata": {},
   "source": [
    "# Running Simulations"
   ]
  },
  {
   "cell_type": "code",
   "execution_count": null,
   "id": "a39980e2",
   "metadata": {},
   "outputs": [],
   "source": []
  }
 ],
 "metadata": {
  "kernelspec": {
   "display_name": "Python 3 (ipykernel)",
   "language": "python",
   "name": "python3"
  },
  "language_info": {
   "codemirror_mode": {
    "name": "ipython",
    "version": 3
   },
   "file_extension": ".py",
   "mimetype": "text/x-python",
   "name": "python",
   "nbconvert_exporter": "python",
   "pygments_lexer": "ipython3",
   "version": "3.11.4"
  }
 },
 "nbformat": 4,
 "nbformat_minor": 5
}
