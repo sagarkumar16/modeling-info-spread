{
 "cells": [
  {
   "cell_type": "code",
   "execution_count": 1,
   "id": "28c7f997",
   "metadata": {},
   "outputs": [
    {
     "name": "stdout",
     "output_type": "stream",
     "text": [
      "Obtaining file:///home/sagar/modeling-info-spread\n",
      "  Preparing metadata (setup.py) ... \u001b[?25ldone\n",
      "\u001b[?25hInstalling collected packages: src\n",
      "  Attempting uninstall: src\n",
      "    Found existing installation: src 0.2.8\n",
      "    Uninstalling src-0.2.8:\n",
      "      Successfully uninstalled src-0.2.8\n",
      "  Running setup.py develop for src\n",
      "Successfully installed src-0.3\n"
     ]
    }
   ],
   "source": [
    "!pip install -e /home/sagar/modeling-info-spread"
   ]
  },
  {
   "cell_type": "code",
   "execution_count": 2,
   "id": "d35ad373",
   "metadata": {},
   "outputs": [],
   "source": [
    "import os\n",
    "import matplotlib.pyplot as plt\n",
    "from matplotlib import colormaps\n",
    "from src.models.NSI import NSI\n",
    "from src.models.channel import *\n",
    "from tqdm.notebook import tqdm\n",
    "import pickle\n",
    "import matplotlib.patches as mpatches\n",
    "import matplotlib.colors as mcolors\n",
    "from scipy import stats\n",
    "from collections import defaultdict\n",
    "import numpy as np"
   ]
  },
  {
   "cell_type": "markdown",
   "id": "4fc68236",
   "metadata": {},
   "source": [
    "# Constants"
   ]
  },
  {
   "cell_type": "code",
   "execution_count": 6,
   "id": "31fd98c4",
   "metadata": {},
   "outputs": [],
   "source": [
    "N = 100000\n",
    "T = 6000\n",
    "\n",
    "k = 4"
   ]
  },
  {
   "cell_type": "code",
   "execution_count": 7,
   "id": "4f05e51b",
   "metadata": {},
   "outputs": [
    {
     "name": "stderr",
     "output_type": "stream",
     "text": [
      " 23%|████████▊                              | 1357/5999 [03:00<10:17,  7.52it/s]\n"
     ]
    },
    {
     "ename": "KeyboardInterrupt",
     "evalue": "",
     "output_type": "error",
     "traceback": [
      "\u001b[0;31m---------------------------------------------------------------------------\u001b[0m",
      "\u001b[0;31mKeyboardInterrupt\u001b[0m                         Traceback (most recent call last)",
      "Cell \u001b[0;32mIn[7], line 3\u001b[0m\n\u001b[1;32m      1\u001b[0m test_channel \u001b[38;5;241m=\u001b[39m single_flip_channel(\u001b[38;5;241m1\u001b[39m, \u001b[38;5;241m0.1\u001b[39m)\n\u001b[1;32m      2\u001b[0m test_model \u001b[38;5;241m=\u001b[39m NSI(N\u001b[38;5;241m=\u001b[39mN, T\u001b[38;5;241m=\u001b[39mT, P\u001b[38;5;241m=\u001b[39mtest_channel)\n\u001b[0;32m----> 3\u001b[0m test_sim \u001b[38;5;241m=\u001b[39m test_model\u001b[38;5;241m.\u001b[39mhomogeneous_simulation(beta\u001b[38;5;241m=\u001b[39mbeta, k\u001b[38;5;241m=\u001b[39mk, density\u001b[38;5;241m=\u001b[39m\u001b[38;5;28;01mFalse\u001b[39;00m)\n",
      "File \u001b[0;32m~/modeling-info-spread/src/models/NSI.py:221\u001b[0m, in \u001b[0;36mNSI.homogeneous_simulation\u001b[0;34m(self, beta, k, filepath, seedI, density, track_comm, pbar_on, notebook)\u001b[0m\n\u001b[1;32m    219\u001b[0m                 \u001b[38;5;28;01mpass\u001b[39;00m\n\u001b[1;32m    220\u001b[0m         \u001b[38;5;28;01melse\u001b[39;00m:\n\u001b[0;32m--> 221\u001b[0m             \u001b[38;5;28;01mpass\u001b[39;00m\n\u001b[1;32m    223\u001b[0m \u001b[38;5;66;03m# bincount doesn't like negative values, so we shift everything up by one\u001b[39;00m\n\u001b[1;32m    224\u001b[0m shifted_states \u001b[38;5;241m=\u001b[39m np\u001b[38;5;241m.\u001b[39marray(\u001b[38;5;28mlist\u001b[39m(population_dictionary\u001b[38;5;241m.\u001b[39mvalues())) \u001b[38;5;241m+\u001b[39m np\u001b[38;5;241m.\u001b[39mones(\u001b[38;5;28mlen\u001b[39m(population_dictionary),\n\u001b[1;32m    225\u001b[0m                                                                           dtype\u001b[38;5;241m=\u001b[39mnp\u001b[38;5;241m.\u001b[39muint8)\n",
      "\u001b[0;31mKeyboardInterrupt\u001b[0m: "
     ]
    }
   ],
   "source": [
    "test_channel = single_flip_channel(1, 0.1)\n",
    "test_model = NSI(N=N, T=T, P=test_channel)\n",
    "test_sim = test_model.homogeneous_simulation(beta=beta, k=k, density=True)"
   ]
  },
  {
   "cell_type": "code",
   "execution_count": 5,
   "id": "77ad6473",
   "metadata": {},
   "outputs": [
    {
     "data": {
      "text/plain": [
       "[<matplotlib.lines.Line2D at 0x7f97ec1d9610>,\n",
       " <matplotlib.lines.Line2D at 0x7f97ec2b7f10>]"
      ]
     },
     "execution_count": 5,
     "metadata": {},
     "output_type": "execute_result"
    },
    {
     "data": {
      "image/png": "[encoded data removed]",
      "text/plain": [
       "<Figure size 640x480 with 1 Axes>"
      ]
     },
     "metadata": {},
     "output_type": "display_data"
    }
   ],
   "source": [
    "plt.plot(range(T), test_sim.I)"
   ]
  },
  {
   "cell_type": "code",
   "execution_count": null,
   "id": "734f966b",
   "metadata": {},
   "outputs": [],
   "source": []
  },
  {
   "cell_type": "code",
   "execution_count": null,
   "id": "1a0238e5",
   "metadata": {},
   "outputs": [],
   "source": []
  },
  {
   "cell_type": "markdown",
   "id": "761ece77",
   "metadata": {},
   "source": [
    "# Calculating Numerical Results"
   ]
  },
  {
   "cell_type": "code",
   "execution_count": null,
   "id": "e7f1c3ff",
   "metadata": {},
   "outputs": [],
   "source": []
  },
  {
   "cell_type": "markdown",
   "id": "8b9cf24c",
   "metadata": {},
   "source": [
    "# Running Simulations"
   ]
  },
  {
   "cell_type": "code",
   "execution_count": null,
   "id": "a39980e2",
   "metadata": {},
   "outputs": [],
   "source": []
  }
 ],
 "metadata": {
  "kernelspec": {
   "display_name": "Python 3 (ipykernel)",
   "language": "python",
   "name": "python3"
  },
  "language_info": {
   "codemirror_mode": {
    "name": "ipython",
    "version": 3
   },
   "file_extension": ".py",
   "mimetype": "text/x-python",
   "name": "python",
   "nbconvert_exporter": "python",
   "pygments_lexer": "ipython3",
   "version": "3.11.4"
  }
 },
 "nbformat": 4,
 "nbformat_minor": 5
}
