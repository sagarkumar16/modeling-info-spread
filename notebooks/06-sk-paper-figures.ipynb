{
 "cells": [
  {
   "cell_type": "code",
   "execution_count": 1,
   "id": "28c7f997",
   "metadata": {},
   "outputs": [
    {
     "name": "stdout",
     "output_type": "stream",
     "text": [
      "Obtaining file:///home/sagar/modeling-info-spread\n",
      "  Preparing metadata (setup.py) ... \u001b[?25ldone\n",
      "\u001b[?25hInstalling collected packages: src\n",
      "  Attempting uninstall: src\n",
      "    Found existing installation: src 0.3.2\n",
      "    Uninstalling src-0.3.2:\n",
      "      Successfully uninstalled src-0.3.2\n",
      "  Running setup.py develop for src\n",
      "Successfully installed src-0.3.2\n"
     ]
    }
   ],
   "source": [
    "!pip install -e /home/sagar/modeling-info-spread"
   ]
  },
  {
   "cell_type": "code",
   "execution_count": 2,
   "id": "d35ad373",
   "metadata": {},
   "outputs": [],
   "source": [
    "import os\n",
    "import matplotlib.pyplot as plt\n",
    "from matplotlib import colormaps\n",
    "from src.models.NSI import NSI\n",
    "from src.models.channel import *\n",
    "from tqdm.notebook import tqdm\n",
    "import pickle\n",
    "import matplotlib.patches as mpatches\n",
    "import matplotlib.colors as mcolors\n",
    "from scipy import stats\n",
    "from collections import defaultdict\n",
    "import numpy as np\n",
    "import networkx as nx"
   ]
  },
  {
   "cell_type": "markdown",
   "id": "231976ad",
   "metadata": {},
   "source": [
    "# Channels"
   ]
  },
  {
   "cell_type": "markdown",
   "id": "11e97861",
   "metadata": {},
   "source": [
    "7 Channel Topologies\n",
    "\n",
    "1. Binary Symmetric\n",
    "2. Binary Asymmetric\n",
    "3. Triangle\n",
    "4. Cherry\n",
    "5. Paw Channel\n",
    "6. BA Model\n",
    "\n",
    "Differences between 1 & 2 show differences between symmetric and asymmetric error probabilities, differences between 3 & 4 show differences between unique situation where one uniform and other is heterogeneous degree distributions but both have same steady state, 5 & 6 show effect of heterogeneous degree distribution. \n",
    "\n",
    "For the binary asymmetric channel, we make the asymmetry $|\\epsilon_1 - \\epsilon_\\alpha| = 0.4$, but also a subset where we vary this. $\\epsilon_1$ is fixed as $0.4$.\n",
    "\n",
    "All channels are one-flip only. "
   ]
  },
  {
   "cell_type": "code",
   "execution_count": 43,
   "id": "b39bdc14",
   "metadata": {},
   "outputs": [],
   "source": [
    "## Errors\n",
    "\n",
    "lin_errors = np.linspace(0,1,21)\n",
    "log_errors = np.logspace(-10,0,11)\n",
    "\n",
    "log_errors = log_errors[log_errors != 0.1] # removing 0.1 because that's a duplicate"
   ]
  },
  {
   "cell_type": "code",
   "execution_count": 44,
   "id": "038a046a",
   "metadata": {},
   "outputs": [
    {
     "data": {
      "text/plain": [
       "(array([0.  , 0.05, 0.1 , 0.15, 0.2 , 0.25, 0.3 , 0.35, 0.4 , 0.45, 0.5 ,\n",
       "        0.55, 0.6 , 0.65, 0.7 , 0.75, 0.8 , 0.85, 0.9 , 0.95, 1.  ]),\n",
       " array([1.e-10, 1.e-09, 1.e-08, 1.e-07, 1.e-06, 1.e-05, 1.e-04, 1.e-03,\n",
       "        1.e-02, 1.e+00]))"
      ]
     },
     "execution_count": 44,
     "metadata": {},
     "output_type": "execute_result"
    }
   ],
   "source": [
    "lin_errors, log_errors"
   ]
  },
  {
   "cell_type": "code",
   "execution_count": null,
   "id": "01f98639",
   "metadata": {},
   "outputs": [],
   "source": []
  },
  {
   "cell_type": "code",
   "execution_count": 5,
   "id": "d044a977",
   "metadata": {},
   "outputs": [],
   "source": [
    "## Binary Symmetric\n",
    "\n",
    "bin_sym_channels = {\n",
    "    \n",
    "    'lin': {err: single_flip_channel(1, err) for err in lin_errors},\n",
    "    'log': {err: single_flip_channel(1, err) for err in log_errors}\n",
    "    \n",
    "}"
   ]
  },
  {
   "cell_type": "code",
   "execution_count": 6,
   "id": "e26b30f3",
   "metadata": {},
   "outputs": [],
   "source": [
    "## Binary Asymmetric\n",
    "\n",
    "bin_asym_channels = {\n",
    "    \n",
    "    'fixed': {\n",
    "        \n",
    "        'lin': {err: bin_asym_channel(err, (err - 0.4 )% 1) for err in lin_errors},\n",
    "        'log': {err: bin_asym_channel(1, (err - 0.4) % 1) for err in log_errors}\n",
    "        \n",
    "    },\n",
    "    \n",
    "    'varying': {\n",
    "        \n",
    "        'lin': {err: bin_asym_channel(0.3, (0.3 - err) % 1) for err in lin_errors},\n",
    "        'log': {err: bin_asym_channel(0.3, (0.3 - err) % 1) for err in log_errors}\n",
    "        \n",
    "    }\n",
    "    \n",
    "}"
   ]
  },
  {
   "cell_type": "code",
   "execution_count": 7,
   "id": "ae7dec9e",
   "metadata": {},
   "outputs": [],
   "source": [
    "## Triangle\n",
    "\n",
    "triangle_channels = {\n",
    "    \n",
    "    'lin': {err: simplex_channel(3, err) for err in lin_errors},\n",
    "    'log': {err: simplex_channel(3, err) for err in log_errors}\n",
    "    \n",
    "}"
   ]
  },
  {
   "cell_type": "code",
   "execution_count": 52,
   "id": "9a924a16",
   "metadata": {},
   "outputs": [],
   "source": [
    "def star_channel_new(n: int,\n",
    "                     e: float) -> np.ndarray:\n",
    "\n",
    "    \"\"\"\n",
    "    Generate a star-shaped channel (one node with n-1 degree) where the hub node is always message 0.\n",
    "    Error of departing is the same for hub and spokes.\n",
    "\n",
    "    :param n: number of nodes/messages\n",
    "    :param e: error (probability of departing from original message)\n",
    "\n",
    "    :return: Numpy array of transition probabilities\n",
    "    \"\"\"\n",
    "\n",
    "    err = e/(n-1)\n",
    "\n",
    "    hub_probs: np.ndarray = np.array([1-e] + [err]*(n-1))\n",
    "    spoke_probs: list = list()\n",
    "\n",
    "    for i in range(1,n):\n",
    "        i_probs: np.ndarray = np.array([err] + [0]*(n-1))\n",
    "        i_probs[i] = 1 - e\n",
    "        spoke_probs.append(i_probs)\n",
    "\n",
    "    all_probs = [hub_probs] + spoke_probs\n",
    "    Q: np.ndarray = np.array(all_probs)\n",
    "\n",
    "    return Q"
   ]
  },
  {
   "cell_type": "code",
   "execution_count": 53,
   "id": "f4e60340",
   "metadata": {},
   "outputs": [],
   "source": [
    "## Cherry \n",
    "\n",
    "cherry_channels = {\n",
    "    \n",
    "    'lin': {err: star_channel_new(3, err) for err in lin_errors},\n",
    "    'log': {err: star_channel_new(3, err) for err in log_errors}\n",
    "    \n",
    "}"
   ]
  },
  {
   "cell_type": "code",
   "execution_count": 9,
   "id": "31896b07",
   "metadata": {},
   "outputs": [],
   "source": [
    "## Paw Channel \n",
    "\n",
    "paw_channels = {\n",
    "    \n",
    "    'lin': {err: paw_channel(err) for err in lin_errors},\n",
    "    'log': {err: paw_channel(err) for err in log_errors}\n",
    "    \n",
    "}"
   ]
  },
  {
   "cell_type": "code",
   "execution_count": 12,
   "id": "9593a8bc",
   "metadata": {},
   "outputs": [],
   "source": [
    "## BA Channel\n",
    "\n",
    "G = nx.barabasi_albert_graph(n=100, m=2)\n",
    "\n",
    "M = nx.adjacency_matrix(G).todense()\n",
    "\n",
    "BA_channels = {\n",
    "    \n",
    "    'lin': {err: symmetric_graphical_channel(M, err) for err in lin_errors},\n",
    "    'log': {err: symmetric_graphical_channel(M, err) for err in log_errors}\n",
    "    \n",
    "}"
   ]
  },
  {
   "cell_type": "markdown",
   "id": "4fc68236",
   "metadata": {},
   "source": [
    "# Constants"
   ]
  },
  {
   "cell_type": "code",
   "execution_count": 22,
   "id": "31fd98c4",
   "metadata": {},
   "outputs": [],
   "source": [
    "N = 10000\n",
    "T = 1000\n",
    "\n",
    "k = 4\n",
    "beta = 0.1\n",
    "\n",
    "num_sims = 20"
   ]
  },
  {
   "cell_type": "markdown",
   "id": "59f9cc51",
   "metadata": {},
   "source": [
    "# Simulations"
   ]
  },
  {
   "cell_type": "code",
   "execution_count": 46,
   "id": "32f662e8",
   "metadata": {},
   "outputs": [],
   "source": [
    "dirpath = \"/data_users1/sagar/modeling-info-spread\""
   ]
  },
  {
   "cell_type": "code",
   "execution_count": 47,
   "id": "f25ca6ef",
   "metadata": {},
   "outputs": [],
   "source": [
    "all_channels = [bin_sym_channels, bin_asym_channels, triangle_channels, \n",
    "                cherry_channels, paw_channels, BA_channels] \n",
    "all_names = ['bin_sym', 'bin_asym', 'triangle', 'cherry', 'paw', 'BA']"
   ]
  },
  {
   "cell_type": "code",
   "execution_count": 55,
   "id": "b0e019fa",
   "metadata": {},
   "outputs": [],
   "source": [
    "trunc_all_channels = all_channels[3:]\n",
    "trunc_all_names = all_names[3:]"
   ]
  },
  {
   "cell_type": "code",
   "execution_count": 56,
   "id": "f12bd51b",
   "metadata": {},
   "outputs": [
    {
     "name": "stdout",
     "output_type": "stream",
     "text": [
      "Now simulating dynamics on cherry channels.\n"
     ]
    },
    {
     "ename": "TypeError",
     "evalue": "object of type 'numpy.float64' has no len()",
     "output_type": "error",
     "traceback": [
      "\u001b[0;31m---------------------------------------------------------------------------\u001b[0m",
      "\u001b[0;31mTypeError\u001b[0m                                 Traceback (most recent call last)",
      "Cell \u001b[0;32mIn[56], line 41\u001b[0m\n\u001b[1;32m     38\u001b[0m                 \u001b[38;5;28;01mexcept\u001b[39;00m \u001b[38;5;167;01mFileExistsError\u001b[39;00m:\n\u001b[1;32m     39\u001b[0m                     \u001b[38;5;28;01mpass\u001b[39;00m\n\u001b[0;32m---> 41\u001b[0m                 model\u001b[38;5;241m.\u001b[39mhomogeneous_simulation(beta\u001b[38;5;241m=\u001b[39mbeta, k\u001b[38;5;241m=\u001b[39mk, filepath\u001b[38;5;241m=\u001b[39m\u001b[38;5;124mf\u001b[39m\u001b[38;5;124m\"\u001b[39m\u001b[38;5;132;01m{\u001b[39;00msubsubdir\u001b[38;5;132;01m}\u001b[39;00m\u001b[38;5;124m/\u001b[39m\u001b[38;5;132;01m{\u001b[39;00mn\u001b[38;5;132;01m}\u001b[39;00m\u001b[38;5;124m\"\u001b[39m, pbar_on\u001b[38;5;241m=\u001b[39m\u001b[38;5;28;01mFalse\u001b[39;00m)\n\u001b[1;32m     43\u001b[0m \u001b[38;5;28;01melse\u001b[39;00m:\n\u001b[1;32m     45\u001b[0m     \u001b[38;5;28;01mfor\u001b[39;00m key, error_type \u001b[38;5;129;01min\u001b[39;00m channel_type\u001b[38;5;241m.\u001b[39mitems():\n",
      "File \u001b[0;32m~/modeling-info-spread/src/models/NSI.py:210\u001b[0m, in \u001b[0;36mNSI.homogeneous_simulation\u001b[0;34m(self, beta, k, filepath, seedI, density, track_comm, pbar_on, notebook)\u001b[0m\n\u001b[1;32m    207\u001b[0m ni_state \u001b[38;5;241m=\u001b[39m population_dictionary[ni]\n\u001b[1;32m    209\u001b[0m \u001b[38;5;28;01mif\u001b[39;00m ni_state \u001b[38;5;241m<\u001b[39m \u001b[38;5;241m0\u001b[39m:\n\u001b[0;32m--> 210\u001b[0m     new_state \u001b[38;5;241m=\u001b[39m error_message(n_state, \u001b[38;5;28mself\u001b[39m\u001b[38;5;241m.\u001b[39mP)\n\u001b[1;32m    211\u001b[0m     population_dictionary[ni] \u001b[38;5;241m=\u001b[39m new_state\n\u001b[1;32m    213\u001b[0m     comms[ni] \u001b[38;5;241m=\u001b[39m comms[n]\u001b[38;5;241m.\u001b[39mcopy()\n",
      "File \u001b[0;32m~/modeling-info-spread/src/models/NSI.py:44\u001b[0m, in \u001b[0;36merror_message\u001b[0;34m(m, P)\u001b[0m\n\u001b[1;32m     35\u001b[0m \u001b[38;5;28;01mdef\u001b[39;00m \u001b[38;5;21merror_message\u001b[39m(m: \u001b[38;5;28mint\u001b[39m,\n\u001b[1;32m     36\u001b[0m                   P: np\u001b[38;5;241m.\u001b[39mndarray) \u001b[38;5;241m-\u001b[39m\u001b[38;5;241m>\u001b[39m \u001b[38;5;28mint\u001b[39m:\n\u001b[1;32m     37\u001b[0m \u001b[38;5;250m    \u001b[39m\u001b[38;5;124;03m\"\"\"\u001b[39;00m\n\u001b[1;32m     38\u001b[0m \u001b[38;5;124;03m    Replicates communcation over a discrete noisy channel by taking in the index for a messsage strain \\\u001b[39;00m\n\u001b[1;32m     39\u001b[0m \u001b[38;5;124;03m    and outputs a new one based on the channel.\u001b[39;00m\n\u001b[0;32m   (...)\u001b[0m\n\u001b[1;32m     42\u001b[0m \u001b[38;5;124;03m    :return: random message to forward\u001b[39;00m\n\u001b[1;32m     43\u001b[0m \u001b[38;5;124;03m    \"\"\"\u001b[39;00m\n\u001b[0;32m---> 44\u001b[0m     m_out \u001b[38;5;241m=\u001b[39m np\u001b[38;5;241m.\u001b[39mrandom\u001b[38;5;241m.\u001b[39mchoice(\u001b[38;5;28mrange\u001b[39m(P\u001b[38;5;241m.\u001b[39mshape[\u001b[38;5;241m0\u001b[39m]), p\u001b[38;5;241m=\u001b[39mP[m])\n\u001b[1;32m     46\u001b[0m     \u001b[38;5;28;01mreturn\u001b[39;00m m_out\n",
      "File \u001b[0;32mnumpy/random/mtrand.pyx:954\u001b[0m, in \u001b[0;36mnumpy.random.mtrand.RandomState.choice\u001b[0;34m()\u001b[0m\n",
      "\u001b[0;31mTypeError\u001b[0m: object of type 'numpy.float64' has no len()"
     ]
    }
   ],
   "source": [
    "# Running all simulations with seed 0 \n",
    "\n",
    "for name, channel_type in zip(trunc_all_names, trunc_all_channels): # trunc because cherry did\n",
    "    \n",
    "    print(f\"Now simulating dynamics on {name} channels.\")\n",
    "    \n",
    "    directory = dirpath + '/' + name\n",
    "    \n",
    "    try:\n",
    "        os.mkdir(directory)\n",
    "        \n",
    "    except FileExistsError:\n",
    "        pass\n",
    "    \n",
    "    directory = directory + '/seed0/'\n",
    "    \n",
    "    try:\n",
    "        os.mkdir(directory)\n",
    "        \n",
    "    except FileExistsError:\n",
    "        pass\n",
    "    \n",
    "    if name != 'bin_asym':\n",
    "        \n",
    "        for scale, channel_dict in channel_type.items():\n",
    "            \n",
    "            for err, channel in channel_dict.items():\n",
    "                \n",
    "                model = NSI(N=N, T=T, P=channel)\n",
    "                \n",
    "                for n in range(num_sims):\n",
    "                    \n",
    "                    subsubdir = directory + '/' + str(err)\n",
    "                    \n",
    "                    try:\n",
    "                        os.mkdir(subsubdir)\n",
    "\n",
    "                    except FileExistsError:\n",
    "                        pass\n",
    "                    \n",
    "                    model.homogeneous_simulation(beta=beta, k=k, filepath=f\"{subsubdir}/{n}\", pbar_on=False)\n",
    "                \n",
    "    else:\n",
    "        \n",
    "        for key, error_type in channel_type.items():\n",
    "            \n",
    "            subdir = directory +\"/\" + key\n",
    "            \n",
    "            try:\n",
    "                os.mkdir(subdir)\n",
    "\n",
    "            except FileExistsError:\n",
    "                pass\n",
    "        \n",
    "            for scale, channel_dict in error_type.items():\n",
    "\n",
    "                for err, channel in channel_dict.items():\n",
    "                    model = NSI(N=N, T=T, P=channel)\n",
    "                    \n",
    "                    for n in range(num_sims):\n",
    "                    \n",
    "                        subsubdir = subdir + '/' + str(err) \n",
    "\n",
    "                        try:\n",
    "                            os.mkdir(subsubdir)\n",
    "\n",
    "                        except FileExistsError:\n",
    "                            pass\n",
    "                    \n",
    "                        model.homogeneous_simulation(beta=beta, k=k, filepath=f\"{subsubdir}/{n}\", pbar_on=False)"
   ]
  },
  {
   "cell_type": "code",
   "execution_count": 63,
   "id": "331d9102",
   "metadata": {},
   "outputs": [
    {
     "data": {
      "text/plain": [
       "range(0, 3)"
      ]
     },
     "execution_count": 63,
     "metadata": {},
     "output_type": "execute_result"
    }
   ],
   "source": [
    "range(cherry_channels['lin'][0.0].shape[0])"
   ]
  },
  {
   "cell_type": "code",
   "execution_count": null,
   "id": "d63eea9e",
   "metadata": {},
   "outputs": [],
   "source": [
    "# Seeding all other messages\n",
    "\n",
    "for name, channel_type in zip(all_names,all_channels):\n",
    "    \n",
    "    print(f\"Now simulating dynamics on {name} channels.\")\n",
    "    \n",
    "    directory = dirpath + '/' + name\n",
    "    \n",
    "    if name != 'bin_asym':\n",
    "        \n",
    "        for scale, channel_dict in channel_type.items():\n",
    "            \n",
    "            for err, channel in channel_dict.items():\n",
    "                \n",
    "                alphabet_size = channel.shape[0]\n",
    "                \n",
    "                model = NSI(N=N, T=T, P=channel)\n",
    "                \n",
    "                for message in range(len(alphabet_size[1:])):\n",
    "                    \n",
    "                    subdir = directory + '/' + f\"seed{message}\"\n",
    "                        \n",
    "                    try:\n",
    "                        os.mkdir(subdir)\n",
    "\n",
    "                    except FileExistsError:\n",
    "                        pass\n",
    "                    \n",
    "                    seed_dist = np.zeroes(channel.shape[0])\n",
    "                    seed_dist[message] = 1\n",
    "                \n",
    "                    for n in range(num_sims):\n",
    "\n",
    "                        subsubdir = subdir + '/' + str(err)\n",
    "\n",
    "                        try:\n",
    "                            os.mkdir(subsubdir)\n",
    "\n",
    "                        except FileExistsError:\n",
    "                            pass\n",
    "\n",
    "                        model.homogeneous_simulation(beta=beta, k=k, filepath=f\"{subsubdir}/{n}\", pbar_on=False,\n",
    "                                                    seedI=seed_dist)\n",
    "                \n",
    "    else:\n",
    "        \n",
    "        for key, error_type in channel_type.items():\n",
    "            \n",
    "            subdir = directory +\"/\" + key\n",
    "            \n",
    "            try:\n",
    "                os.mkdir(subdir)\n",
    "\n",
    "            except FileExistsError:\n",
    "                pass\n",
    "        \n",
    "            for scale, channel_dict in error_type.items():\n",
    "\n",
    "                for err, channel in channel_dict.items():\n",
    "                    \n",
    "                    model = NSI(N=N, T=T, P=channel)\n",
    "                    alphabet_size = channel.shape[0]\n",
    "                    \n",
    "                    for message in range(len(alphabet_size)): # running asym on all messages due to error last time\n",
    "                    \n",
    "                        subsubdir = directory + '/' + f\"seed{message}\"\n",
    "\n",
    "                        try:\n",
    "                            os.mkdir(subsubdir)\n",
    "\n",
    "                        except FileExistsError:\n",
    "                            pass\n",
    "                        \n",
    "                        seed_dist = np.zeroes(channel.shape[0])\n",
    "                        seed_dist[message] = 1\n",
    "\n",
    "                        for n in range(num_sims):\n",
    "\n",
    "                            subsubsubdir = subsubdir + '/' + str(err)\n",
    "\n",
    "                            try:\n",
    "                                os.mkdir(subsubsubdir)\n",
    "\n",
    "                            except FileExistsError:\n",
    "                                pass\n",
    "\n",
    "                            model.homogeneous_simulation(beta=beta, k=k, filepath=f\"{subsubdir}/{n}\", pbar_on=False,\n",
    "                                                    seed_=seed_dist)"
   ]
  },
  {
   "cell_type": "code",
   "execution_count": null,
   "id": "8a5a578f",
   "metadata": {},
   "outputs": [],
   "source": []
  },
  {
   "cell_type": "markdown",
   "id": "761ece77",
   "metadata": {},
   "source": [
    "# Calculating Numerical Results"
   ]
  },
  {
   "cell_type": "code",
   "execution_count": null,
   "id": "83405af4",
   "metadata": {},
   "outputs": [],
   "source": []
  }
 ],
 "metadata": {
  "kernelspec": {
   "display_name": "Python 3 (ipykernel)",
   "language": "python",
   "name": "python3"
  },
  "language_info": {
   "codemirror_mode": {
    "name": "ipython",
    "version": 3
   },
   "file_extension": ".py",
   "mimetype": "text/x-python",
   "name": "python",
   "nbconvert_exporter": "python",
   "pygments_lexer": "ipython3",
   "version": "3.11.4"
  }
 },
 "nbformat": 4,
 "nbformat_minor": 5
}
